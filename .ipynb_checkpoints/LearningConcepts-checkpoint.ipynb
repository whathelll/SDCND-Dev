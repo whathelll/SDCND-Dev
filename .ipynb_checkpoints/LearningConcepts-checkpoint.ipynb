{
 "cells": [
  {
   "cell_type": "code",
   "execution_count": 14,
   "metadata": {
    "collapsed": false
   },
   "outputs": [
    {
     "name": "stdout",
     "output_type": "stream",
     "text": [
      "[[ 0  0  0  0  0  0  0  0  0  0]\n",
      " [ 0  0  0  0  0  0  0  0  0  0]\n",
      " [ 0  0  0  0  0  0  0  0  0  0]\n",
      " [ 0  0  0  0  0  0  0  0  0  0]\n",
      " [ 0  0  0  0  0  0  0  0  0  0]\n",
      " [ 0  0  0  0  0  0  0  0  0  0]\n",
      " [ 0  0  0  0  0  0  0  0  0  0]\n",
      " [ 0  0  0  0  0  0  0  0  0  0]\n",
      " [ 0  0  0  0  0  0  0  0  0  0]\n",
      " [ 0  0  0  0  0  0  0  0  0  0]\n",
      " [ 0  0  0  0  0  0  0  0  0  0]\n",
      " [30 11  1  0  0  0  0  0  0  0]\n",
      " [ 0 19 20 11  6  3  1  0  0  0]\n",
      " [ 0  0  9 13 10  8  6  5  3  2]\n",
      " [ 0  0  0  6 10  8  7  6  5  4]\n",
      " [ 0  0  0  0  4  8  7  6  5  5]\n",
      " [ 0  0  0  0  0  3  7  5  5  4]\n",
      " [ 0  0  0  0  0  0  2  6  6  5]\n",
      " [ 0  0  0  0  0  0  0  2  5  4]\n",
      " [ 0  0  0  0  0  0  0  0  1  5]]\n",
      "rho=0.50, theta=-45\n"
     ]
    },
    {
     "name": "stderr",
     "output_type": "stream",
     "text": [
      "C:\\Continuum\\Anaconda2\\lib\\site-packages\\ipykernel\\__main__.py:23: VisibleDeprecationWarning: using a non-integer number instead of an integer will result in an error in the future\n",
      "C:\\Continuum\\Anaconda2\\lib\\site-packages\\ipykernel\\__main__.py:34: VisibleDeprecationWarning: using a non-integer number instead of an integer will result in an error in the future\n"
     ]
    },
    {
     "data": {
      "text/plain": [
       "<matplotlib.image.AxesImage at 0x29954e0>"
      ]
     },
     "execution_count": 14,
     "metadata": {},
     "output_type": "execute_result"
    },
    {
     "data": {
      "image/png": "[encoded data removed]",
      "text/plain": [
       "<matplotlib.figure.Figure at 0x6bec6d8>"
      ]
     },
     "metadata": {},
     "output_type": "display_data"
    }
   ],
   "source": [
    "%matplotlib inline\n",
    "import numpy as np\n",
    "import matplotlib.pyplot as plt\n",
    "\n",
    "def hough_line(img):\n",
    "    # Rho and Theta ranges\n",
    "    thetas = np.deg2rad(np.arange(-90.0, 90.0))\n",
    "\n",
    "#     print thetas\n",
    "\n",
    "    width, height = img.shape\n",
    "    diag_len = np.ceil(np.sqrt(width * width + height * height))   # max_dist\n",
    "    rhos = np.linspace(-diag_len, diag_len, diag_len * 2.0)\n",
    "\n",
    "    \n",
    "    # Cache some resuable values\n",
    "    cos_t = np.cos(thetas)\n",
    "    sin_t = np.sin(thetas)\n",
    "    num_thetas = len(thetas)\n",
    "\n",
    "    \n",
    "    # Hough accumulator array of theta vs rho\n",
    "    accumulator = np.zeros((2 * diag_len, num_thetas), dtype=np.uint64)\n",
    "    y_idxs, x_idxs = np.nonzero(img)  # (row, col) indexes to edges\n",
    "    \n",
    "    # Vote in the hough accumulator\n",
    "    for i in range(len(x_idxs)):\n",
    "        x = x_idxs[i]\n",
    "        y = y_idxs[i]\n",
    "\n",
    "        for t_idx in range(num_thetas):\n",
    "            # Calculate rho. diag_len is added for a positive index\n",
    "            rho = round(x * cos_t[t_idx] + y * sin_t[t_idx]) + diag_len\n",
    "            accumulator[rho, t_idx] += 1\n",
    "\n",
    "    return accumulator, thetas, rhos\n",
    "\n",
    "# Create binary image and call hough_line\n",
    "image = np.zeros((50,50))\n",
    "image[10:40, 10:40] = np.eye(30)\n",
    "# print image[10]\n",
    "accumulator, thetas, rhos = hough_line(image)\n",
    "\n",
    "print accumulator[60:80, 45:55]\n",
    "# Easiest peak finding based on max votes\n",
    "idx = np.argmax(accumulator)\n",
    "rho = rhos[idx / accumulator.shape[1]]\n",
    "theta = thetas[idx % accumulator.shape[1]]\n",
    "print \"rho={0:.2f}, theta={1:.0f}\".format(rho, np.rad2deg(theta))\n",
    "\n",
    "plt.imshow(accumulator, cmap='Greys',  interpolation='nearest')"
   ]
  },
  {
   "cell_type": "code",
   "execution_count": 12,
   "metadata": {
    "collapsed": false
   },
   "outputs": [
    {
     "name": "stdout",
     "output_type": "stream",
     "text": [
      "[ 0.  0.  0.  0.  0.  0.  0.  0.  0.  0.  1.  0.  0.  0.  0.  0.  0.  0.\n",
      "  0.  0.  0.  0.  0.  0.  0.  0.  0.  0.  0.  0.  0.  0.  0.  0.  0.  0.\n",
      "  0.  0.  0.  0.  0.  0.  0.  0.  0.  0.  0.  0.  0.  0.]\n",
      "rho=0.50, theta=-45\n"
     ]
    },
    {
     "name": "stderr",
     "output_type": "stream",
     "text": [
      "C:\\Continuum\\Anaconda2\\lib\\site-packages\\ipykernel\\__main__.py:16: VisibleDeprecationWarning: using a non-integer number instead of an integer will result in an error in the future\n",
      "C:\\Continuum\\Anaconda2\\lib\\site-packages\\ipykernel\\__main__.py:27: VisibleDeprecationWarning: using a non-integer number instead of an integer will result in an error in the future\n"
     ]
    }
   ],
   "source": []
  }
 ],
 "metadata": {
  "anaconda-cloud": {},
  "kernelspec": {
   "display_name": "Python [conda root]",
   "language": "python",
   "name": "conda-root-py"
  },
  "language_info": {
   "codemirror_mode": {
    "name": "ipython",
    "version": 2
   },
   "file_extension": ".py",
   "mimetype": "text/x-python",
   "name": "python",
   "nbconvert_exporter": "python",
   "pygments_lexer": "ipython2",
   "version": "2.7.12"
  }
 },
 "nbformat": 4,
 "nbformat_minor": 1
}
